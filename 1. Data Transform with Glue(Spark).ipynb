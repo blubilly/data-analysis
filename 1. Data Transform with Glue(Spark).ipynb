{
 "cells": [
  {
   "cell_type": "markdown",
   "metadata": {},
   "source": [
    "## Data Transform with Glue\n",
    "\n",
    "이번 실습에서는 AWS Glue를 활용하여 데이터를 로딩, 변환, 저장하는 기본적인 데이터 처리와 관련된 코드를 확인하고 직접 수행해 봅니다.\n",
    "이 노트북의 실행을 위해서는 Glue DevEndpoint 클러스터를 생성하고, SageMaker notebook 인스턴스를 연동한 환경 설정이 완료되어야 합니다. \n",
    "\n",
    "**[사전에 실습을 위한 데이터가 준비되지 않은 경우]**\n",
    "\n",
    "AWS Glue에서 s3://analytics-data-seung/e-commerce 경로의 S3 데이터를 크롤링해서 analytics-source 라는 이름으로 데이터베이스를 생성하면 코드 실행이 가능합니다. "
   ]
  },
  {
   "cell_type": "markdown",
   "metadata": {},
   "source": [
    "기본적으로 데이터를 로딩하는 부분에서는 Glue의 API를 주로 사용하도록 합니다. Glue DynamicFrame에서는 대량의 파일을 로딩 / 적재 하는데 최적화된 API를 제공합니다.\n",
    "\n",
    "데이터 로딩 이후 데이터의 변환에는 Spark DataFrame를 기본적으로 사용합니다."
   ]
  },
  {
   "cell_type": "markdown",
   "metadata": {},
   "source": [
    "### Jupyter Notebook 기본 사용법\n",
    "* 명령줄 실행 : Ctrl + Enter\n",
    "* 명령줄 추가 : 편집창이 아닌 부분 선택하고 A(위에 추가) or B(아래 추가)\n",
    "* 정상적인 실행이 되지 않는 경우 Kernel 메뉴 - Restart Kernel 선택"
   ]
  },
  {
   "cell_type": "markdown",
   "metadata": {},
   "source": [
    "### Glue API를 활용하여 데이터 로딩하기\n",
    "아래 코드는 Glue에서 Job 생성시 기본 코드 템플릿에 포함된 부분입니다. \n",
    "노트북에서 Step by Step으로 진행하기 위해서 Job / Bookmark 관련된 일부 코드는 주석처리 하였습니다. "
   ]
  },
  {
   "cell_type": "markdown",
   "metadata": {},
   "source": [
    "먼저 AWS Glue의 주요 라이브러리를 로딩하고 Spark 작업을 실행하기 위한 GlueContext를 생성합니다."
   ]
  },
  {
   "cell_type": "code",
   "execution_count": 1,
   "metadata": {},
   "outputs": [
    {
     "name": "stdout",
     "output_type": "stream",
     "text": [
      "Starting Spark application\n"
     ]
    },
    {
     "data": {
      "text/html": [
       "<table>\n",
       "<tr><th>ID</th><th>YARN Application ID</th><th>Kind</th><th>State</th><th>Spark UI</th><th>Driver log</th><th>Current session?</th></tr><tr><td>9</td><td>application_1558507935305_0010</td><td>pyspark</td><td>idle</td><td><a target=\"_blank\" href=\"http://ip-172-32-87-202.us-west-2.compute.internal:20888/proxy/application_1558507935305_0010/\">Link</a></td><td><a target=\"_blank\" href=\"http://ip-172-32-88-25.us-west-2.compute.internal:8042/node/containerlogs/container_1558507935305_0010_01_000001/livy\">Link</a></td><td>✔</td></tr></table>"
      ],
      "text/plain": [
       "<IPython.core.display.HTML object>"
      ]
     },
     "metadata": {},
     "output_type": "display_data"
    },
    {
     "name": "stdout",
     "output_type": "stream",
     "text": [
      "SparkSession available as 'spark'.\n"
     ]
    }
   ],
   "source": [
    "#import sys\n",
    "#from awsglue.transforms import *\n",
    "#from awsglue.utils import getResolvedOptions\n",
    "from pyspark.context import SparkContext\n",
    "from awsglue.context import GlueContext\n",
    "#from awsglue.job import Job\n",
    "\n",
    "glueContext = GlueContext(SparkContext.getOrCreate())"
   ]
  },
  {
   "cell_type": "markdown",
   "metadata": {},
   "source": [
    "Glue Data Catalog에 있는 정보를 기반으로 테이블 데이터를 로딩합니다. 다음 코드가 동작하기 위해서는 앞단계에서 Glue Crawler를 통해 Database와 테이블을 생성해주어야 합니다. \n",
    "\n",
    "order 테이블은 우리가 앞에서 생성한 analytics-source 데이터베이스에 포함된 테이블 입니다. \n",
    "\n",
    "이후 데이터 변환 작업의 편의성을 위해서 Glue의 DynamicFrame을 DataFrame 형식으로 변경합니다. "
   ]
  },
  {
   "cell_type": "code",
   "execution_count": 2,
   "metadata": {},
   "outputs": [
    {
     "name": "stdout",
     "output_type": "stream",
     "text": [
      "Count:  11283758\n",
      "root\n",
      " |-- member_id: string (nullable = true)\n",
      " |-- order_date: long (nullable = true)\n",
      " |-- order_status: string (nullable = true)\n",
      " |-- country: string (nullable = true)\n",
      " |-- shipping_date: string (nullable = true)\n",
      " |-- total_price: long (nullable = true)\n",
      " |-- city: string (nullable = true)\n",
      " |-- order_time: long (nullable = true)\n",
      " |-- state: string (nullable = true)\n",
      " |-- postal_code: long (nullable = true)\n",
      " |-- region: string (nullable = true)\n",
      " |-- order_id: string (nullable = true)\n",
      "\n",
      "+---------+----------+------------+-------------+-------------+-----------+-------------+--------------+------------+-----------+------+--------------+\n",
      "|member_id|order_date|order_status|      country|shipping_date|total_price|         city|    order_time|       state|postal_code|region|      order_id|\n",
      "+---------+----------+------------+-------------+-------------+-----------+-------------+--------------+------------+-----------+------+--------------+\n",
      "| ND-18370|  20161119|     shipped|United States|   2016-11-25|         53|   Long Beach|20161119000000|    New York|      11561|  East|CA-2016-130778|\n",
      "| KH-16330|  20170619|     shipped|United States|   2017-06-21|        921|       Newark|20170619000000|        Ohio|      43055|  East|CA-2017-128944|\n",
      "| SP-20860|  20150816|     shipped|United States|   2015-08-20|        832| Philadelphia|20150816000000|Pennsylvania|      19134|  East|US-2015-126753|\n",
      "| DC-12850|  20160324|     shipped|United States|   2016-03-26|        320|    Cleveland|20160324000000|        Ohio|      44105|  East|CA-2016-130911|\n",
      "| TT-21460|  20171218|     shipped|United States|   2017-12-24|          6|San Francisco|20171218000000|  California|      94110|  West|CA-2017-158736|\n",
      "+---------+----------+------------+-------------+-------------+-----------+-------------+--------------+------------+-----------+------+--------------+\n",
      "only showing top 5 rows"
     ]
    }
   ],
   "source": [
    "order = glueContext.create_dynamic_frame.from_catalog(database=\"analytics-source\", table_name=\"order\").toDF()\n",
    "print \"Count: \", order.count()\n",
    "order.printSchema()\n",
    "order.show(5)"
   ]
  },
  {
   "cell_type": "markdown",
   "metadata": {},
   "source": [
    "이후 분석 단계에서 불필요한 컬럼을 미리 식별하여 데이터를 정리하는 작업을 진행합니다. \n",
    "몇몇 지역을 나타내는 컬럼의 데이터 분포를 살펴보고, 꼭 필요한 City 컬럼만 남기고 삭제하는 작업을 진행합니다. "
   ]
  },
  {
   "cell_type": "code",
   "execution_count": 3,
   "metadata": {},
   "outputs": [
    {
     "name": "stdout",
     "output_type": "stream",
     "text": [
      "+-------------+--------+\n",
      "|      country|   count|\n",
      "+-------------+--------+\n",
      "|United States|11283758|\n",
      "+-------------+--------+\n",
      "\n",
      "+-------+-------+\n",
      "| region|  count|\n",
      "+-------+-------+\n",
      "|  South|3335405|\n",
      "|   East|2819257|\n",
      "|Central|2797985|\n",
      "|   West|2331111|\n",
      "+-------+-------+\n",
      "\n",
      "+----------+-------+\n",
      "|     state|  count|\n",
      "+----------+-------+\n",
      "|   Florida|1409972|\n",
      "|  New York|1365079|\n",
      "|      Ohio| 983351|\n",
      "|  Virginia| 940477|\n",
      "|California| 896780|\n",
      "|     Texas| 896405|\n",
      "|  Illinois| 895355|\n",
      "|  Kentucky| 515686|\n",
      "|    Kansas| 514542|\n",
      "|  Colorado| 492511|\n",
      "+----------+-------+\n",
      "only showing top 10 rows\n",
      "\n",
      "+-------------+------+\n",
      "|         city| count|\n",
      "+-------------+------+\n",
      "|San Francisco|896024|\n",
      "|     Elmhurst|895081|\n",
      "|New York City|894701|\n",
      "|    Henderson|515644|\n",
      "|  Garden City|514531|\n",
      "|       Denver|492449|\n",
      "|   Chesapeake|491955|\n",
      "|     Columbus|491824|\n",
      "|       Toledo|491417|\n",
      "|      Detroit|491338|\n",
      "+-------------+------+\n",
      "only showing top 10 rows\n",
      "\n",
      "+-----------+------+\n",
      "|postal_code| count|\n",
      "+-----------+------+\n",
      "|      94122|895856|\n",
      "|      60126|895081|\n",
      "|      10035|894376|\n",
      "|      42420|515642|\n",
      "|      67846|514531|\n",
      "|      80219|492449|\n",
      "|      23320|491955|\n",
      "|      43229|491768|\n",
      "|      43615|491417|\n",
      "|      48205|491299|\n",
      "+-----------+------+\n",
      "only showing top 10 rows"
     ]
    }
   ],
   "source": [
    "order.groupBy(\"country\").count().sort(\"count\", ascending=False).show(10)\n",
    "order.groupBy(\"region\").count().sort(\"count\", ascending=False).show(10)\n",
    "order.groupBy(\"state\").count().sort(\"count\", ascending=False).show(10)\n",
    "order.groupBy(\"city\").count().sort(\"count\", ascending=False).show(10)\n",
    "order.groupBy(\"postal_code\").count().sort(\"count\", ascending=False).show(10)"
   ]
  },
  {
   "cell_type": "markdown",
   "metadata": {},
   "source": [
    "지역을 나타내는 컬럼인 country, region, state 컬럼 보다 주로 city 관련 컬럼의 활용도가 높다고 판단되고, postal_code는 city와 중복되므로, country, region, state, postal_code 컬럼은 삭제합니다. "
   ]
  },
  {
   "cell_type": "code",
   "execution_count": 4,
   "metadata": {},
   "outputs": [
    {
     "name": "stdout",
     "output_type": "stream",
     "text": [
      "root\n",
      " |-- member_id: string (nullable = true)\n",
      " |-- order_date: long (nullable = true)\n",
      " |-- order_status: string (nullable = true)\n",
      " |-- country: string (nullable = true)\n",
      " |-- shipping_date: string (nullable = true)\n",
      " |-- total_price: long (nullable = true)\n",
      " |-- city: string (nullable = true)\n",
      " |-- order_time: long (nullable = true)\n",
      " |-- state: string (nullable = true)\n",
      " |-- postal_code: long (nullable = true)\n",
      " |-- region: string (nullable = true)\n",
      " |-- order_id: string (nullable = true)\n",
      "\n",
      "root\n",
      " |-- member_id: string (nullable = true)\n",
      " |-- order_date: long (nullable = true)\n",
      " |-- order_status: string (nullable = true)\n",
      " |-- shipping_date: string (nullable = true)\n",
      " |-- total_price: long (nullable = true)\n",
      " |-- city: string (nullable = true)\n",
      " |-- order_time: long (nullable = true)\n",
      " |-- order_id: string (nullable = true)"
     ]
    }
   ],
   "source": [
    "order.printSchema()\n",
    "order_df = order.drop(\"country\", \"region\", \"state\", \"postal_code\")\n",
    "order_df.printSchema()"
   ]
  },
  {
   "cell_type": "markdown",
   "metadata": {},
   "source": [
    "회원별 주문 현황을 살펴보기 위해서 member 테이블을 추가로 로딩하여 order 테이블과 조인하여 member_order 테이블을 생성합니다."
   ]
  },
  {
   "cell_type": "code",
   "execution_count": 5,
   "metadata": {},
   "outputs": [
    {
     "name": "stdout",
     "output_type": "stream",
     "text": [
      "root\n",
      " |-- member_id: string (nullable = true)\n",
      " |-- country: string (nullable = true)\n",
      " |-- login_id: string (nullable = true)\n",
      " |-- gender: string (nullable = true)\n",
      " |-- city: string (nullable = true)\n",
      " |-- last_login_ymdt: long (nullable = true)\n",
      " |-- membership_level: string (nullable = true)\n",
      " |-- login_password: string (nullable = true)\n",
      " |-- name: string (nullable = true)\n",
      " |-- state: string (nullable = true)\n",
      " |-- postal_code: long (nullable = true)\n",
      " |-- region: string (nullable = true)\n",
      " |-- age: long (nullable = true)\n",
      " |-- reg_ymdt: long (nullable = true)\n",
      " |-- order_date: long (nullable = true)\n",
      " |-- order_status: string (nullable = true)\n",
      " |-- shipping_date: string (nullable = true)\n",
      " |-- total_price: long (nullable = true)\n",
      " |-- city: string (nullable = true)\n",
      " |-- order_time: long (nullable = true)\n",
      " |-- order_id: string (nullable = true)"
     ]
    }
   ],
   "source": [
    "member = glueContext.create_dynamic_frame.from_catalog(database=\"analytics-source\", table_name=\"member\").toDF()\n",
    "member_order = member.join(order_df, \"member_id\")\n",
    "member_order.printSchema()"
   ]
  },
  {
   "cell_type": "markdown",
   "metadata": {},
   "source": [
    "회원별 구매 횟수 / 구매 금액 / 나이별, 성별별 구매 금액 등을 계산해서 확인해봅니다. "
   ]
  },
  {
   "cell_type": "code",
   "execution_count": 6,
   "metadata": {},
   "outputs": [
    {
     "name": "stdout",
     "output_type": "stream",
     "text": [
      "+---------+------+\n",
      "|member_id| count|\n",
      "+---------+------+\n",
      "| AA-10315|895764|\n",
      "| VF-21715|895084|\n",
      "| SB-20290|515632|\n",
      "| BT-11395|514534|\n",
      "| KT-16480|492442|\n",
      "| CK-12325|491950|\n",
      "| RC-19960|491719|\n",
      "| JS-15880|491407|\n",
      "| HW-14935|491293|\n",
      "| JH-15910|490843|\n",
      "+---------+------+\n",
      "only showing top 10 rows"
     ]
    }
   ],
   "source": [
    "member_order_total = member_order.groupBy(\"member_id\").count().sort(\"count\", ascending=False)\n",
    "member_order_total.show(10)"
   ]
  },
  {
   "cell_type": "code",
   "execution_count": 7,
   "metadata": {},
   "outputs": [
    {
     "name": "stdout",
     "output_type": "stream",
     "text": [
      "+---+----------------+\n",
      "|age|sum(total_price)|\n",
      "+---+----------------+\n",
      "| 20|       117953446|\n",
      "| 21|       117859681|\n",
      "| 24|       117808273|\n",
      "| 22|           75709|\n",
      "| 23|           53856|\n",
      "| 28|           46637|\n",
      "| 27|           45551|\n",
      "| 29|           38564|\n",
      "| 26|           37624|\n",
      "| 25|           21135|\n",
      "+---+----------------+"
     ]
    }
   ],
   "source": [
    "member_order.filter(member_order.age.between(20, 29)).groupBy(\"age\").sum(\"total_price\").sort(\"sum(total_price)\", ascending=False).show()"
   ]
  },
  {
   "cell_type": "code",
   "execution_count": 8,
   "metadata": {},
   "outputs": [
    {
     "name": "stdout",
     "output_type": "stream",
     "text": [
      "+---+---------+---------+\n",
      "|age|        F|        M|\n",
      "+---+---------+---------+\n",
      "| 29|    24275|    14289|\n",
      "| 26|    27259|    10365|\n",
      "| 54|    15415|    26019|\n",
      "| 22|    26428|    49281|\n",
      "| 34|128960410|135473362|\n",
      "| 50|    23163|234943922|\n",
      "| 57|123765352|    26313|\n",
      "| 32|129217476|    15627|\n",
      "| 43|    27115|    47471|\n",
      "| 31|    22604|118099004|\n",
      "| 39|    17217|123263172|\n",
      "| 25|    11946|     9189|\n",
      "| 58|    21880|129192137|\n",
      "| 63|129016433|128557762|\n",
      "| 27|    31955|    13596|\n",
      "| 56|    19263|123665468|\n",
      "| 51|    13105|    27175|\n",
      "| 52|    40097|    19181|\n",
      "| 41|    16181|    23351|\n",
      "| 28|    13664|    32973|\n",
      "+---+---------+---------+\n",
      "only showing top 20 rows"
     ]
    }
   ],
   "source": [
    "member_order.groupBy(\"age\").pivot(\"gender\").sum(\"total_price\").show(20)"
   ]
  },
  {
   "cell_type": "markdown",
   "metadata": {},
   "source": [
    "이후 분석에서 주문별 상세 주문 내역을 활용하기 위해서 필요한 모든 테이블을 로딩하여, order 테이블과 조인하여 order_detali 테이블을 만듭니다. "
   ]
  },
  {
   "cell_type": "code",
   "execution_count": 9,
   "metadata": {},
   "outputs": [
    {
     "name": "stdout",
     "output_type": "stream",
     "text": [
      "Count:  22573388\n",
      "root\n",
      " |-- item_count: long (nullable = true)\n",
      " |-- order_date: long (nullable = true)\n",
      " |-- item_id: string (nullable = true)\n",
      " |-- item_price: long (nullable = true)\n",
      " |-- order_time: long (nullable = true)\n",
      " |-- order_id: string (nullable = true)"
     ]
    }
   ],
   "source": [
    "order_item = glueContext.create_dynamic_frame.from_catalog(database=\"analytics-source\", table_name=\"order_item\").toDF()\n",
    "print \"Count: \", order_item.count()\n",
    "order_item.printSchema()"
   ]
  },
  {
   "cell_type": "code",
   "execution_count": 10,
   "metadata": {},
   "outputs": [],
   "source": [
    "item = glueContext.create_dynamic_frame.from_catalog(database=\"analytics-source\", table_name=\"item\").toDF()\n",
    "item_category = glueContext.create_dynamic_frame.from_catalog(database=\"analytics-source\", table_name=\"item_category\").toDF()"
   ]
  },
  {
   "cell_type": "code",
   "execution_count": 23,
   "metadata": {},
   "outputs": [
    {
     "name": "stdout",
     "output_type": "stream",
     "text": [
      "root\n",
      " |-- order_id: string (nullable = true)\n",
      " |-- member_id: string (nullable = true)\n",
      " |-- order_date: long (nullable = true)\n",
      " |-- order_status: string (nullable = true)\n",
      " |-- country: string (nullable = true)\n",
      " |-- shipping_date: string (nullable = true)\n",
      " |-- total_price: long (nullable = true)\n",
      " |-- city: string (nullable = true)\n",
      " |-- order_time: long (nullable = true)\n",
      " |-- state: string (nullable = true)\n",
      " |-- postal_code: long (nullable = true)\n",
      " |-- region: string (nullable = true)\n",
      " |-- item_id: string (nullable = true)\n",
      " |-- item_count: long (nullable = true)\n",
      " |-- order_date: long (nullable = true)\n",
      " |-- item_price: long (nullable = true)\n",
      " |-- order_time: long (nullable = true)\n",
      " |-- price: long (nullable = true)\n",
      " |-- name: string (nullable = true)\n",
      " |-- description: string (nullable = true)\n",
      " |-- reg_ymdt: long (nullable = true)\n",
      " |-- item_category_id: long (nullable = true)\n",
      " |-- category_name: string (nullable = true)\n",
      " |-- category_id: long (nullable = true)\n",
      " |-- parent_category_name: string (nullable = true)"
     ]
    }
   ],
   "source": [
    "order_detail = order.join(order_item.join(item.join(item_category, item.item_category_id == item_category.category_id), \"item_id\"), \"order_id\")\n",
    "order_detail.printSchema()"
   ]
  },
  {
   "cell_type": "markdown",
   "metadata": {},
   "source": [
    "### Glue DynamicFrame을 활용하여 S3에 데이터 저장하기\n",
    "앞쪽에서 Dataframe을 통해서 데이터 정리 작업과 Join을 완료한 데이터 파일을 별도의 S3 버킷에 저장합니다.\n",
    "(DataFrame으로 변경한 데이터는 DynamicFrame로 변경하는 작업이 추가됩니다.)\n",
    "저장된 데이터를 기반으로 ad-hoc 쿼리와 분석을 수행하도록 합니다. "
   ]
  },
  {
   "cell_type": "code",
   "execution_count": 25,
   "metadata": {},
   "outputs": [],
   "source": [
    "from awsglue.dynamicframe import DynamicFrame\n",
    "\n",
    "order_detail_dyf = DynamicFrame.fromDF(order_detail, glueContext, 'order_detail_dyf')\n",
    "member_order_total = DynamicFrame.fromDF(member_order, glueContext, 'member_order_total')"
   ]
  },
  {
   "cell_type": "markdown",
   "metadata": {},
   "source": [
    "데이터를 저장할 S3 버킷명을 지정합니다. 앞 단계에서 생성한 각자 아이디를 버킷 이름에 넣어줍니다. "
   ]
  },
  {
   "cell_type": "code",
   "execution_count": 13,
   "metadata": {},
   "outputs": [],
   "source": [
    "#s3_bucket = 's3://analytics-data-[자신의 ID]' \n",
    "s3_bucket = 's3://analytics-data-seung' "
   ]
  },
  {
   "cell_type": "markdown",
   "metadata": {},
   "source": [
    "order_detail 테이블은 전체 데이터를 조인하여 분석용 테이블로 통합한 파일이므로, 이후 쿼리 성능을 위해서 날짜 컬럼인 order_date로 파티션을 해서 저장합니다. 또한 다른 테이블과 별도로 관리하기 위해서 별도의 S3 경로에 저장합니다. "
   ]
  },
  {
   "cell_type": "code",
   "execution_count": 26,
   "metadata": {},
   "outputs": [],
   "source": [
    "datasink0 = glueContext.write_dynamic_frame.from_options(frame = order_detail_dyf, connection_type = \"s3\", connection_options = {\"path\": s3_bucket + '/e-commerce-analytics_transformed/order_detail', \"partitionKeys\": \"order_date\"}, format = \"parquet\", transformation_ctx = \"datasink0\")  \n"
   ]
  },
  {
   "cell_type": "code",
   "execution_count": 17,
   "metadata": {},
   "outputs": [],
   "source": [
    "datasink1 = glueContext.write_dynamic_frame.from_options(frame = member_order_total, connection_type = \"s3\", connection_options = {\"path\": s3_bucket + '/e-commerce-analytics/member_order'}, format = \"parquet\", transformation_ctx = \"datasink1\")\n"
   ]
  },
  {
   "cell_type": "markdown",
   "metadata": {},
   "source": [
    "추가적으로 필요한 데이터를 모두 로딩해서 저장하도록 합니다. \n",
    "order (이전에 로딩 완료)\n",
    "order_item (이전에 로딩 완료)\n",
    "member\n",
    "item\n",
    "item_category"
   ]
  },
  {
   "cell_type": "markdown",
   "metadata": {},
   "source": [
    "앞에서 로딩한여 DataFrame으로 변경하여 사용했던 테이블은 다시 DynamicFrame으로 변경하여 저장합니다."
   ]
  },
  {
   "cell_type": "code",
   "execution_count": 18,
   "metadata": {},
   "outputs": [],
   "source": [
    "order_dyf = DynamicFrame.fromDF(order, glueContext, 'order_dyf')\n",
    "order_item_dyf = DynamicFrame.fromDF(order_item, glueContext, 'order_item_dyf')\n",
    "member_dyf = DynamicFrame.fromDF(member, glueContext, 'member_dyf')\n",
    "item_dyf = DynamicFrame.fromDF(item, glueContext, 'item_dyf')\n",
    "item_category_dyf = DynamicFrame.fromDF(item_category, glueContext, 'item_category_dyf')"
   ]
  },
  {
   "cell_type": "code",
   "execution_count": 19,
   "metadata": {},
   "outputs": [],
   "source": [
    "datasink2 = glueContext.write_dynamic_frame.from_options(frame = order_dyf, connection_type = \"s3\", connection_options = {\"path\": s3_bucket + '/e-commerce-analytics/order'}, format = \"parquet\", transformation_ctx = \"datasink2\")\n",
    "datasink3 = glueContext.write_dynamic_frame.from_options(frame = order_item_dyf, connection_type = \"s3\", connection_options = {\"path\": s3_bucket + '/e-commerce-analytics/order_item'}, format = \"parquet\", transformation_ctx = \"datasink3\")\n",
    "datasink4 = glueContext.write_dynamic_frame.from_options(frame = member_dyf, connection_type = \"s3\", connection_options = {\"path\": s3_bucket + '/e-commerce-analytics/member'}, format = \"parquet\", transformation_ctx = \"datasink4\")\n",
    "datasink5 = glueContext.write_dynamic_frame.from_options(frame = item_dyf, connection_type = \"s3\", connection_options = {\"path\": s3_bucket + '/e-commerce-analytics/item'}, format = \"parquet\", transformation_ctx = \"datasink5\")\n",
    "datasink6 = glueContext.write_dynamic_frame.from_options(frame = item_category_dyf, connection_type = \"s3\", connection_options = {\"path\": s3_bucket + '/e-commerce-analytics/item_category'}, format = \"parquet\", transformation_ctx = \"datasink6\")"
   ]
  },
  {
   "cell_type": "markdown",
   "metadata": {},
   "source": [
    "여기까지 완료하면 우리가 분석에 사용할 e-commerce 관련된 OLTP 성격의 데이터를 모두 S3에 저장하였고, 또한 데이터 탐색과 변환을 통해 만들어진 몇몇 테이블도 S3에 저장하였습니다.\n",
    "이후 다시 Lab을 따라서 다음 단계를 진행합니다. "
   ]
  }
 ],
 "metadata": {
  "kernelspec": {
   "display_name": "Sparkmagic (PySpark)",
   "language": "",
   "name": "pysparkkernel"
  },
  "language_info": {
   "codemirror_mode": {
    "name": "python",
    "version": 2
   },
   "mimetype": "text/x-python",
   "name": "pyspark",
   "pygments_lexer": "python2"
  }
 },
 "nbformat": 4,
 "nbformat_minor": 2
}
